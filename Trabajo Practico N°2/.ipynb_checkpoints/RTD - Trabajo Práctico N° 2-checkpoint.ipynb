{
 "cells": [
  {
   "cell_type": "code",
   "execution_count": null,
   "metadata": {},
   "outputs": [],
   "source": []
  },
  {
   "cell_type": "markdown",
   "metadata": {},
   "source": [
    "**a)\tDurante el intercambio de datos entre A y B, luego de establecida la conexión, la máquina A no recibe una confirmación de B sobre su ultimo envío, por lo que retransmite el segmento no confirmado. Al cabo de un tiempo, B recibe las dos copias del segmento tal como A las envió. ¿B detecta que se trata de dos copias de la misma información? Justifique su respuesta.**"
   ]
  },
  {
   "cell_type": "markdown",
   "metadata": {},
   "source": [
    "Si, B detecta que se trata de dos copias de la misma informacion. Para que B pueda detectar que hay dos segmentos igales bastará\n",
    "con que el receptor compruebe el número de secuencia para determinar si el paquete recibido es o no una retransmisión. \n",
    "\n",
    "Para solucionar el problema de segmentos duplicados, lo que se hace es añadir un nuevo campo al paquete de datos, y hacer que el\n",
    "emisor numere sus paquetes de datos colocando un número de secuencia en este campo. "
   ]
  }
 ],
 "metadata": {
  "kernelspec": {
   "display_name": "Python 3",
   "language": "python",
   "name": "python3"
  },
  "language_info": {
   "codemirror_mode": {
    "name": "ipython",
    "version": 3
   },
   "file_extension": ".py",
   "mimetype": "text/x-python",
   "name": "python",
   "nbconvert_exporter": "python",
   "pygments_lexer": "ipython3",
   "version": "3.7.0"
  }
 },
 "nbformat": 4,
 "nbformat_minor": 2
}
