{
 "cells": [
  {
   "cell_type": "markdown",
   "metadata": {},
   "source": [
    "1.\tDos aplicaciones en las máquinas A y B intercambian datos utilizando el protocolo TCP."
   ]
  },
  {
   "cell_type": "markdown",
   "metadata": {},
   "source": [
    "**a)\tDurante el intercambio de datos entre A y B, luego de establecida la conexión, la máquina A no recibe una confirmación de B sobre su ultimo envío, por lo que retransmite el segmento no confirmado. Al cabo de un tiempo, B recibe las dos copias del segmento tal como A las envió. ¿B detecta que se trata de dos copias de la misma información? Justifique su respuesta.**"
   ]
  },
  {
   "cell_type": "markdown",
   "metadata": {},
   "source": [
    "Si, B detecta que se trata de dos copias de la misma informacion. Para que B pueda detectar que hay dos segmentos igales bastará\n",
    "con que el receptor compruebe el número de secuencia para determinar si el paquete recibido es o no una retransmisión. \n",
    "\n",
    "Para solucionar el problema de segmentos duplicados, lo que se hace es añadir un nuevo campo al paquete de datos, y hacer que el\n",
    "emisor numere sus paquetes de datos colocando un número de secuencia en este campo. "
   ]
  },
  {
   "cell_type": "markdown",
   "metadata": {},
   "source": [
    "2.\tResponda: Verdadero o Falso y justifique.\n",
    "El uso de ventanas de un protocolo:"
   ]
  },
  {
   "cell_type": "markdown",
   "metadata": {},
   "source": [
    "**a)\tPermite aumentar la eficiencia de la transmisión.**\n",
    "\n",
    "Verdadero, la ventana deslizante es un mecanismo dirigido al control de flujo de datos que existe entre un emisor y un receptor pertenecientes a una red. El protocolo de ventana deslizante permite al emisor transmitir múltiples segmentos de información antes de comenzar la espera para que el receptor le confirme la recepción de los segmentos. Y por lo tanto esto mejora la eficiencia de la transmisión. \n",
    "\n",
    "https://es.wikipedia.org/wiki/Ventana_deslizante\n"
   ]
  },
  {
   "cell_type": "markdown",
   "metadata": {},
   "source": [
    "**b)\tGarantiza el control de errores.**\n",
    "Falso, las ventanas sirven para resolver el problema de control de flujos, pero no para controlar los errores. Los errores los controla el protocolo TCP. \n",
    "\n",
    "\n"
   ]
  },
  {
   "cell_type": "markdown",
   "metadata": {},
   "source": [
    "**c)\tRequiere la identificación de las tramas.**\n",
    "\n",
    "Verdadero, se emplea numeración para la identificación de las tramas. Tipos de números de secuencia:\n",
    "\n",
    "•\tYa reconocido\n",
    "\n",
    "•\tEnviado, todavía no reconocido\n",
    "\n",
    "•\tUtilizable, todavía no enviado\n",
    "\n",
    "•\tNo utilizable\n",
    "\n",
    "\n",
    "Redes de Computadoras 5ta Edicion – KUROSE – Pagina 218.\n",
    "\n",
    "https://books.google.com.ar/books?id=On6y2SEaWyMC&pg=PA124&lpg=PA124&dq=El+uso+de+ventanas+de+un+protocolo++identificaci%C3%B3n+de+las+tramas&source=bl&ots=Ld9payOnMI&sig=ACfU3U3zrbyKz_OaL0ndC6DiRFgrzs7zKw&hl=es-419&sa=X&ved=2ahUKEwjVxLzS0-HhAhUPJrkGHbGcD6oQ6AEwBnoECAgQAQ#v=onepage&q=El%20uso%20de%20ventanas%20de%20un%20protocolo%20%20identificaci%C3%B3n%20de%20las%20tramas&f=false\n"
   ]
  }
 ],
 "metadata": {
  "kernelspec": {
   "display_name": "Python 3",
   "language": "python",
   "name": "python3"
  },
  "language_info": {
   "codemirror_mode": {
    "name": "ipython",
    "version": 3
   },
   "file_extension": ".py",
   "mimetype": "text/x-python",
   "name": "python",
   "nbconvert_exporter": "python",
   "pygments_lexer": "ipython3",
   "version": "3.7.0"
  }
 },
 "nbformat": 4,
 "nbformat_minor": 2
}
